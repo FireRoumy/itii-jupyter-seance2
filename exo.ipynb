{
 "cells": [
  {
   "cell_type": "markdown",
   "metadata": {},
   "source": [
    "Exercice 1:"
   ]
  },
  {
   "cell_type": "code",
   "execution_count": 59,
   "metadata": {},
   "outputs": [],
   "source": [
    "class rectangle:\n",
    "  def __init__(self, long, larg):\n",
    "    self.longueur=long\n",
    "    self.largeur=larg\n",
    "  \n",
    "  def getlargeur(self):\n",
    "    return self.largeur\n",
    "  def getlongueur(self):\n",
    "    return self.longueur\n",
    "  def perimetre(self):\n",
    "    return self.longueur*2 + self.largeur*2\n",
    "  def surface(self):\n",
    "    return self.longueur*self.largeur\n",
    "\n",
    "class Parallelepipede(rectangle):\n",
    "  def __init__(self, long, larg, h):\n",
    "    self.hauteur=h\n",
    "    \n",
    "  def volume(self):\n",
    "    return  myRectangle.surface()*self.hauteur"
   ]
  },
  {
   "cell_type": "code",
   "execution_count": 60,
   "metadata": {
    "scrolled": false
   },
   "outputs": [
    {
     "name": "stdout",
     "output_type": "stream",
     "text": [
      "2 5\n",
      "14\n",
      "10\n",
      "30\n"
     ]
    }
   ],
   "source": [
    "myRectangle = rectangle(5,2)\n",
    "print(myRectangle.getlargeur(), myRectangle.getlongueur())\n",
    "print(myRectangle.perimetre())\n",
    "print(myRectangle.surface())\n",
    "\n",
    "myParallelepipede = Parallelepipede(5,2,3)\n",
    "print(myParallelepipede.volume())"
   ]
  },
  {
   "cell_type": "markdown",
   "metadata": {},
   "source": [
    "Exercice 2"
   ]
  },
  {
   "cell_type": "code",
   "execution_count": 82,
   "metadata": {},
   "outputs": [
    {
     "ename": "NameError",
     "evalue": "name 'randbytes' is not defined",
     "output_type": "error",
     "traceback": [
      "\u001b[1;31m---------------------------------------------------------------------------\u001b[0m",
      "\u001b[1;31mNameError\u001b[0m                                 Traceback (most recent call last)",
      "\u001b[1;32m<ipython-input-82-fad6680737dd>\u001b[0m in \u001b[0;36m<module>\u001b[1;34m\u001b[0m\n\u001b[0;32m     10\u001b[0m \u001b[1;33m\u001b[0m\u001b[0m\n\u001b[0;32m     11\u001b[0m \u001b[1;33m\u001b[0m\u001b[0m\n\u001b[1;32m---> 12\u001b[1;33m \u001b[0mmyVecteur2D\u001b[0m \u001b[1;33m=\u001b[0m \u001b[0mVecteur2D\u001b[0m\u001b[1;33m(\u001b[0m\u001b[1;33m)\u001b[0m\u001b[1;33m\u001b[0m\u001b[1;33m\u001b[0m\u001b[0m\n\u001b[0m\u001b[0;32m     13\u001b[0m \u001b[0mprint\u001b[0m\u001b[1;33m(\u001b[0m\u001b[0mmyVecteur2D\u001b[0m\u001b[1;33m.\u001b[0m\u001b[0maffichage\u001b[0m\u001b[1;33m(\u001b[0m\u001b[1;33m)\u001b[0m\u001b[1;33m)\u001b[0m\u001b[1;33m\u001b[0m\u001b[1;33m\u001b[0m\u001b[0m\n",
      "\u001b[1;32m<ipython-input-82-fad6680737dd>\u001b[0m in \u001b[0;36m__init__\u001b[1;34m(self)\u001b[0m\n\u001b[0;32m      2\u001b[0m   \u001b[1;32mdef\u001b[0m \u001b[0m__init__\u001b[0m\u001b[1;33m(\u001b[0m\u001b[0mself\u001b[0m\u001b[1;33m)\u001b[0m\u001b[1;33m:\u001b[0m\u001b[1;33m\u001b[0m\u001b[1;33m\u001b[0m\u001b[0m\n\u001b[0;32m      3\u001b[0m     \u001b[0mself\u001b[0m\u001b[1;33m.\u001b[0m\u001b[0mx\u001b[0m\u001b[1;33m=\u001b[0m\u001b[1;36m0\u001b[0m\u001b[1;33m\u001b[0m\u001b[1;33m\u001b[0m\u001b[0m\n\u001b[1;32m----> 4\u001b[1;33m     \u001b[0mself\u001b[0m\u001b[1;33m.\u001b[0m\u001b[0my\u001b[0m\u001b[1;33m=\u001b[0m\u001b[0mrandbytes\u001b[0m\u001b[1;33m(\u001b[0m\u001b[1;33m)\u001b[0m\u001b[1;33m\u001b[0m\u001b[1;33m\u001b[0m\u001b[0m\n\u001b[0m\u001b[0;32m      5\u001b[0m \u001b[1;33m\u001b[0m\u001b[0m\n\u001b[0;32m      6\u001b[0m   \u001b[1;32mdef\u001b[0m \u001b[0maffichage\u001b[0m\u001b[1;33m(\u001b[0m\u001b[0mself\u001b[0m\u001b[1;33m)\u001b[0m\u001b[1;33m:\u001b[0m\u001b[1;33m\u001b[0m\u001b[1;33m\u001b[0m\u001b[0m\n",
      "\u001b[1;31mNameError\u001b[0m: name 'randbytes' is not defined"
     ]
    }
   ],
   "source": [
    "class Vecteur2D:\n",
    "  def __init__(self):\n",
    "    self.x=0\n",
    "    self.y=randbytes()\n",
    "   \n",
    "  def affichage(self):\n",
    "    return self.x,self.y \n",
    "  def addition(self):\n",
    "    return self\n",
    "\n",
    "\n",
    "myVecteur2D = Vecteur2D()\n",
    "print(myVecteur2D.affichage())  "
   ]
  },
  {
   "cell_type": "markdown",
   "metadata": {},
   "source": [
    "Exercice 3"
   ]
  },
  {
   "cell_type": "code",
   "execution_count": 80,
   "metadata": {},
   "outputs": [],
   "source": [
    "class Base:\n",
    "  def __init__(self):\n",
    "    self.data = [] \n",
    "    self.index = 0\n",
    "  def pop(self):\n",
    "    pass\n",
    "  def push(self, elt):\n",
    "    pass\n",
    "\n",
    "class Pile(Base):\n",
    "  def __init__(self):\n",
    "    "
   ]
  },
  {
   "cell_type": "markdown",
   "metadata": {},
   "source": [
    "Exercice 4"
   ]
  },
  {
   "cell_type": "code",
   "execution_count": null,
   "metadata": {},
   "outputs": [],
   "source": []
  }
 ],
 "metadata": {
  "kernelspec": {
   "display_name": "Python 3",
   "language": "python",
   "name": "python3"
  },
  "language_info": {
   "codemirror_mode": {
    "name": "ipython",
    "version": 3
   },
   "file_extension": ".py",
   "mimetype": "text/x-python",
   "name": "python",
   "nbconvert_exporter": "python",
   "pygments_lexer": "ipython3",
   "version": "3.7.6"
  }
 },
 "nbformat": 4,
 "nbformat_minor": 4
}
